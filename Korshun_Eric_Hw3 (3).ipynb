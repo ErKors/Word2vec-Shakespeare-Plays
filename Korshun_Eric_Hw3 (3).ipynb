{
  "cells": [
    {
      "cell_type": "markdown",
      "id": "288aa34a-2f84-41fc-a249-4f27c26c2f10",
      "metadata": {
        "id": "288aa34a-2f84-41fc-a249-4f27c26c2f10"
      },
      "source": [
        "# [9665] Homework 3 : Word2vec\n",
        "Data file:\n",
        "* https://raw.githubusercontent.com/vjavaly/Baruch-CIS-9665/main/data/Shakespeare_plays.csv"
      ]
    },
    {
      "cell_type": "markdown",
      "source": [
        "## Homework Submission Rules (for all homework assignments)\n",
        "* Homework is due by 6:05 PM on the due date\n",
        "  * No late submission will be accepted\n",
        "* Verify that you are submitting the correct homework file\n",
        "* Homework file naming convention\n",
        "  * LastName_FirstName_HwX.ipynb  [Replace X with the homework #]\n",
        "    * 0.5 points deducted for submitting homework not complying with naming convention\n",
        "* Before submission, execute \"Kernel -> Restart Kernel and Run All Cells\"\n",
        "  * 0.5 points deducted for not submitting a cleanly executed notebook"
      ],
      "metadata": {
        "id": "ueWOGGq5p3dt"
      },
      "id": "ueWOGGq5p3dt"
    },
    {
      "cell_type": "markdown",
      "source": [
        "## Homework 3 Requirements\n",
        "* Load data into dataframe\n",
        "* Perform text preprocessing\n",
        "* Prepare data for training\n",
        "* Use Gensim Phrases package to automatically detect common phrases (bigrams)\n",
        "* Train Gensim Word2Vec model, including building vocabulary\n",
        "* Explore trained model, answer the following questions:  \n",
        "  1) Ask the model to find the words most similar to some of the most iconic characters from Shakespeare's plays:  \n",
        "     - 'hamlet'\n",
        "     - 'macbeth'\n",
        "\n",
        "  2) Ask the model to rate how similar are 2 words:\n",
        "    - 'cleopatra', 'mark_antony'\n",
        "    - 'macbeth', 'hamlet'\n",
        "  \n",
        "  3) Ask the model to display the word that does not belong to the list:\n",
        "    - ['goneril', 'edmund', 'regan']\n",
        "    - ['falstaff', 'hal', 'henry_iv']\n",
        "  \n",
        "  4) Ask the model:\n",
        "    - Which word is to 'macbeth' as 'othello' is to 'iago'?\n",
        "    - Which word is to 'king_lear' as 'polonius' is to 'laertes'?\n"
      ],
      "metadata": {
        "id": "Zd-vpdsdp3uW"
      },
      "id": "Zd-vpdsdp3uW"
    },
    {
      "cell_type": "code",
      "execution_count": null,
      "id": "5f977808-223e-4ebd-a24b-fd413fff02f0",
      "metadata": {
        "id": "5f977808-223e-4ebd-a24b-fd413fff02f0",
        "colab": {
          "base_uri": "https://localhost:8080/"
        },
        "outputId": "e681dc52-4121-48ae-85c6-54a9cafdda26"
      },
      "outputs": [
        {
          "output_type": "stream",
          "name": "stdout",
          "text": [
            "Run time: 04/23/25 23:30:53\n"
          ]
        }
      ],
      "source": [
        "from datetime import datetime\n",
        "print(f'Run time: {datetime.now().strftime(\"%D %T\")}')"
      ]
    },
    {
      "cell_type": "markdown",
      "id": "23fb3806-efc6-47fc-8b2d-c5dddccb26ac",
      "metadata": {
        "id": "23fb3806-efc6-47fc-8b2d-c5dddccb26ac"
      },
      "source": [
        "### Import libraries"
      ]
    },
    {
      "cell_type": "code",
      "source": [
        "%%time\n",
        "\n",
        "! pip install gensim"
      ],
      "metadata": {
        "id": "xX2bQe46RmA9",
        "colab": {
          "base_uri": "https://localhost:8080/"
        },
        "outputId": "d42e278d-d7a5-4146-ff41-3d825002c660"
      },
      "id": "xX2bQe46RmA9",
      "execution_count": null,
      "outputs": [
        {
          "output_type": "stream",
          "name": "stdout",
          "text": [
            "Requirement already satisfied: gensim in /usr/local/lib/python3.11/dist-packages (4.3.3)\n",
            "Requirement already satisfied: numpy<2.0,>=1.18.5 in /usr/local/lib/python3.11/dist-packages (from gensim) (1.26.4)\n",
            "Requirement already satisfied: scipy<1.14.0,>=1.7.0 in /usr/local/lib/python3.11/dist-packages (from gensim) (1.13.1)\n",
            "Requirement already satisfied: smart-open>=1.8.1 in /usr/local/lib/python3.11/dist-packages (from gensim) (7.1.0)\n",
            "Requirement already satisfied: wrapt in /usr/local/lib/python3.11/dist-packages (from smart-open>=1.8.1->gensim) (1.17.2)\n",
            "CPU times: user 56.6 ms, sys: 12.2 ms, total: 68.8 ms\n",
            "Wall time: 7.47 s\n"
          ]
        }
      ]
    },
    {
      "cell_type": "code",
      "source": [
        "!pip install pyldavis"
      ],
      "metadata": {
        "colab": {
          "base_uri": "https://localhost:8080/"
        },
        "id": "_OMVIP13fc7R",
        "outputId": "08bfc9e4-255b-458c-801c-2a145cb018b4"
      },
      "id": "_OMVIP13fc7R",
      "execution_count": null,
      "outputs": [
        {
          "output_type": "stream",
          "name": "stdout",
          "text": [
            "Requirement already satisfied: pyldavis in /usr/local/lib/python3.11/dist-packages (3.4.1)\n",
            "Requirement already satisfied: numpy>=1.24.2 in /usr/local/lib/python3.11/dist-packages (from pyldavis) (1.26.4)\n",
            "Requirement already satisfied: scipy in /usr/local/lib/python3.11/dist-packages (from pyldavis) (1.13.1)\n",
            "Requirement already satisfied: pandas>=2.0.0 in /usr/local/lib/python3.11/dist-packages (from pyldavis) (2.2.3)\n",
            "Requirement already satisfied: joblib>=1.2.0 in /usr/local/lib/python3.11/dist-packages (from pyldavis) (1.4.2)\n",
            "Requirement already satisfied: jinja2 in /usr/local/lib/python3.11/dist-packages (from pyldavis) (3.1.6)\n",
            "Requirement already satisfied: numexpr in /usr/local/lib/python3.11/dist-packages (from pyldavis) (2.10.2)\n",
            "Requirement already satisfied: funcy in /usr/local/lib/python3.11/dist-packages (from pyldavis) (2.0)\n",
            "Requirement already satisfied: scikit-learn>=1.0.0 in /usr/local/lib/python3.11/dist-packages (from pyldavis) (1.6.1)\n",
            "Requirement already satisfied: gensim in /usr/local/lib/python3.11/dist-packages (from pyldavis) (4.3.3)\n",
            "Requirement already satisfied: setuptools in /usr/local/lib/python3.11/dist-packages (from pyldavis) (75.2.0)\n",
            "Requirement already satisfied: python-dateutil>=2.8.2 in /usr/local/lib/python3.11/dist-packages (from pandas>=2.0.0->pyldavis) (2.8.2)\n",
            "Requirement already satisfied: pytz>=2020.1 in /usr/local/lib/python3.11/dist-packages (from pandas>=2.0.0->pyldavis) (2025.2)\n",
            "Requirement already satisfied: tzdata>=2022.7 in /usr/local/lib/python3.11/dist-packages (from pandas>=2.0.0->pyldavis) (2025.2)\n",
            "Requirement already satisfied: threadpoolctl>=3.1.0 in /usr/local/lib/python3.11/dist-packages (from scikit-learn>=1.0.0->pyldavis) (3.6.0)\n",
            "Requirement already satisfied: smart-open>=1.8.1 in /usr/local/lib/python3.11/dist-packages (from gensim->pyldavis) (7.1.0)\n",
            "Requirement already satisfied: MarkupSafe>=2.0 in /usr/local/lib/python3.11/dist-packages (from jinja2->pyldavis) (3.0.2)\n",
            "Requirement already satisfied: six>=1.5 in /usr/local/lib/python3.11/dist-packages (from python-dateutil>=2.8.2->pandas>=2.0.0->pyldavis) (1.17.0)\n",
            "Requirement already satisfied: wrapt in /usr/local/lib/python3.11/dist-packages (from smart-open>=1.8.1->gensim->pyldavis) (1.17.2)\n"
          ]
        }
      ]
    },
    {
      "cell_type": "code",
      "source": [
        "!pip install --upgrade numpy\n",
        "!pip install --upgrade pandas\n",
        "!pip install --upgrade gensim"
      ],
      "metadata": {
        "colab": {
          "base_uri": "https://localhost:8080/"
        },
        "id": "tGsCx9HYfdiY",
        "outputId": "949d745e-7fc8-4ed3-9694-8bcf033d3b77"
      },
      "id": "tGsCx9HYfdiY",
      "execution_count": null,
      "outputs": [
        {
          "output_type": "stream",
          "name": "stdout",
          "text": [
            "Requirement already satisfied: numpy in /usr/local/lib/python3.11/dist-packages (1.26.4)\n",
            "Collecting numpy\n",
            "  Using cached numpy-2.2.5-cp311-cp311-manylinux_2_17_x86_64.manylinux2014_x86_64.whl.metadata (62 kB)\n",
            "Using cached numpy-2.2.5-cp311-cp311-manylinux_2_17_x86_64.manylinux2014_x86_64.whl (16.4 MB)\n",
            "Installing collected packages: numpy\n",
            "  Attempting uninstall: numpy\n",
            "    Found existing installation: numpy 1.26.4\n",
            "    Uninstalling numpy-1.26.4:\n",
            "      Successfully uninstalled numpy-1.26.4\n",
            "\u001b[31mERROR: pip's dependency resolver does not currently take into account all the packages that are installed. This behaviour is the source of the following dependency conflicts.\n",
            "gensim 4.3.3 requires numpy<2.0,>=1.18.5, but you have numpy 2.2.5 which is incompatible.\n",
            "google-colab 1.0.0 requires pandas==2.2.2, but you have pandas 2.2.3 which is incompatible.\n",
            "tensorflow 2.18.0 requires numpy<2.1.0,>=1.26.0, but you have numpy 2.2.5 which is incompatible.\n",
            "numba 0.60.0 requires numpy<2.1,>=1.22, but you have numpy 2.2.5 which is incompatible.\u001b[0m\u001b[31m\n",
            "\u001b[0mSuccessfully installed numpy-2.2.5\n",
            "Requirement already satisfied: pandas in /usr/local/lib/python3.11/dist-packages (2.2.3)\n",
            "Requirement already satisfied: numpy>=1.23.2 in /usr/local/lib/python3.11/dist-packages (from pandas) (2.2.5)\n",
            "Requirement already satisfied: python-dateutil>=2.8.2 in /usr/local/lib/python3.11/dist-packages (from pandas) (2.8.2)\n",
            "Requirement already satisfied: pytz>=2020.1 in /usr/local/lib/python3.11/dist-packages (from pandas) (2025.2)\n",
            "Requirement already satisfied: tzdata>=2022.7 in /usr/local/lib/python3.11/dist-packages (from pandas) (2025.2)\n",
            "Requirement already satisfied: six>=1.5 in /usr/local/lib/python3.11/dist-packages (from python-dateutil>=2.8.2->pandas) (1.17.0)\n",
            "Requirement already satisfied: gensim in /usr/local/lib/python3.11/dist-packages (4.3.3)\n",
            "Collecting numpy<2.0,>=1.18.5 (from gensim)\n",
            "  Using cached numpy-1.26.4-cp311-cp311-manylinux_2_17_x86_64.manylinux2014_x86_64.whl.metadata (61 kB)\n",
            "Requirement already satisfied: scipy<1.14.0,>=1.7.0 in /usr/local/lib/python3.11/dist-packages (from gensim) (1.13.1)\n",
            "Requirement already satisfied: smart-open>=1.8.1 in /usr/local/lib/python3.11/dist-packages (from gensim) (7.1.0)\n",
            "Requirement already satisfied: wrapt in /usr/local/lib/python3.11/dist-packages (from smart-open>=1.8.1->gensim) (1.17.2)\n",
            "Using cached numpy-1.26.4-cp311-cp311-manylinux_2_17_x86_64.manylinux2014_x86_64.whl (18.3 MB)\n",
            "Installing collected packages: numpy\n",
            "  Attempting uninstall: numpy\n",
            "    Found existing installation: numpy 2.2.5\n",
            "    Uninstalling numpy-2.2.5:\n",
            "      Successfully uninstalled numpy-2.2.5\n",
            "\u001b[31mERROR: pip's dependency resolver does not currently take into account all the packages that are installed. This behaviour is the source of the following dependency conflicts.\n",
            "google-colab 1.0.0 requires pandas==2.2.2, but you have pandas 2.2.3 which is incompatible.\n",
            "thinc 8.3.6 requires numpy<3.0.0,>=2.0.0, but you have numpy 1.26.4 which is incompatible.\u001b[0m\u001b[31m\n",
            "\u001b[0mSuccessfully installed numpy-1.26.4\n"
          ]
        }
      ]
    },
    {
      "cell_type": "code",
      "execution_count": null,
      "id": "77f8c900-4f41-47a4-835b-f2d5e9910043",
      "metadata": {
        "id": "77f8c900-4f41-47a4-835b-f2d5e9910043"
      },
      "outputs": [],
      "source": [
        "import pandas as pd\n",
        "import re\n",
        "import string\n",
        "import logging\n",
        "import nltk\n",
        "from nltk.corpus import stopwords\n",
        "from nltk.stem import WordNetLemmatizer\n",
        "import multiprocessing\n",
        "from gensim.models.phrases import Phrases\n",
        "from gensim.models.phrases import Phraser\n",
        "from gensim.models import Word2Vec"
      ]
    },
    {
      "cell_type": "code",
      "source": [
        "nltk.download('stopwords')\n",
        "nltk.download('wordnet')"
      ],
      "metadata": {
        "id": "ec2xcVaj4Ixf",
        "colab": {
          "base_uri": "https://localhost:8080/"
        },
        "outputId": "04fcb71d-6c4c-437d-bc91-2bcb9beb8bc4"
      },
      "id": "ec2xcVaj4Ixf",
      "execution_count": null,
      "outputs": [
        {
          "output_type": "stream",
          "name": "stderr",
          "text": [
            "[nltk_data] Downloading package stopwords to /root/nltk_data...\n",
            "[nltk_data]   Package stopwords is already up-to-date!\n",
            "[nltk_data] Downloading package wordnet to /root/nltk_data...\n",
            "[nltk_data]   Package wordnet is already up-to-date!\n"
          ]
        },
        {
          "output_type": "execute_result",
          "data": {
            "text/plain": [
              "True"
            ]
          },
          "metadata": {},
          "execution_count": 6
        }
      ]
    },
    {
      "cell_type": "markdown",
      "id": "2f1813e6-b77d-4a66-9f0e-058c1d8b868c",
      "metadata": {
        "id": "2f1813e6-b77d-4a66-9f0e-058c1d8b868c"
      },
      "source": [
        "### Load data"
      ]
    },
    {
      "cell_type": "code",
      "execution_count": null,
      "id": "2be79b09-0695-496c-8f54-ae1745662983",
      "metadata": {
        "scrolled": true,
        "id": "2be79b09-0695-496c-8f54-ae1745662983"
      },
      "outputs": [],
      "source": [
        "# Read data file Shakespeare_plays.csv\n",
        "df=pd.read_csv('https://raw.githubusercontent.com/vjavaly/Baruch-CIS-9665/main/data/Shakespeare_plays.csv')"
      ]
    },
    {
      "cell_type": "markdown",
      "id": "31b0c985-8d96-47fa-8377-1b3212113031",
      "metadata": {
        "id": "31b0c985-8d96-47fa-8377-1b3212113031"
      },
      "source": [
        "### Examine data"
      ]
    },
    {
      "cell_type": "code",
      "execution_count": null,
      "id": "cb580c4c-2f08-41ef-a962-19e49a619838",
      "metadata": {
        "id": "cb580c4c-2f08-41ef-a962-19e49a619838"
      },
      "outputs": [],
      "source": [
        "pd.set_option('max_colwidth', None)"
      ]
    },
    {
      "cell_type": "code",
      "execution_count": null,
      "id": "f1b1578c-f6f9-40b2-bf77-994a1de0f4e5",
      "metadata": {
        "id": "f1b1578c-f6f9-40b2-bf77-994a1de0f4e5",
        "colab": {
          "base_uri": "https://localhost:8080/",
          "height": 206
        },
        "outputId": "9f031d8a-b913-4d63-dc31-2e9d92301c84"
      },
      "outputs": [
        {
          "output_type": "execute_result",
          "data": {
            "text/plain": [
              "   Dataline      Play  PlayerLinenumber ActSceneLine         Player  \\\n",
              "0         1  Henry IV               NaN          NaN            NaN   \n",
              "1         2  Henry IV               NaN          NaN            NaN   \n",
              "2         3  Henry IV               NaN          NaN            NaN   \n",
              "3         4  Henry IV               1.0        1.1.1  KING HENRY IV   \n",
              "4         5  Henry IV               1.0        1.1.2  KING HENRY IV   \n",
              "\n",
              "                                                                                         PlayerLine  \n",
              "0                                                                                             ACT I  \n",
              "1                                                                      SCENE I. London. The palace.  \n",
              "2  Enter KING HENRY, LORD JOHN OF LANCASTER, the EARL of WESTMORELAND, SIR WALTER BLUNT, and others  \n",
              "3                                                            So shaken as we are, so wan with care,  \n",
              "4                                                        Find we a time for frighted peace to pant,  "
            ],
            "text/html": [
              "\n",
              "  <div id=\"df-184bf130-786c-441e-a178-4727a5a71216\" class=\"colab-df-container\">\n",
              "    <div>\n",
              "<style scoped>\n",
              "    .dataframe tbody tr th:only-of-type {\n",
              "        vertical-align: middle;\n",
              "    }\n",
              "\n",
              "    .dataframe tbody tr th {\n",
              "        vertical-align: top;\n",
              "    }\n",
              "\n",
              "    .dataframe thead th {\n",
              "        text-align: right;\n",
              "    }\n",
              "</style>\n",
              "<table border=\"1\" class=\"dataframe\">\n",
              "  <thead>\n",
              "    <tr style=\"text-align: right;\">\n",
              "      <th></th>\n",
              "      <th>Dataline</th>\n",
              "      <th>Play</th>\n",
              "      <th>PlayerLinenumber</th>\n",
              "      <th>ActSceneLine</th>\n",
              "      <th>Player</th>\n",
              "      <th>PlayerLine</th>\n",
              "    </tr>\n",
              "  </thead>\n",
              "  <tbody>\n",
              "    <tr>\n",
              "      <th>0</th>\n",
              "      <td>1</td>\n",
              "      <td>Henry IV</td>\n",
              "      <td>NaN</td>\n",
              "      <td>NaN</td>\n",
              "      <td>NaN</td>\n",
              "      <td>ACT I</td>\n",
              "    </tr>\n",
              "    <tr>\n",
              "      <th>1</th>\n",
              "      <td>2</td>\n",
              "      <td>Henry IV</td>\n",
              "      <td>NaN</td>\n",
              "      <td>NaN</td>\n",
              "      <td>NaN</td>\n",
              "      <td>SCENE I. London. The palace.</td>\n",
              "    </tr>\n",
              "    <tr>\n",
              "      <th>2</th>\n",
              "      <td>3</td>\n",
              "      <td>Henry IV</td>\n",
              "      <td>NaN</td>\n",
              "      <td>NaN</td>\n",
              "      <td>NaN</td>\n",
              "      <td>Enter KING HENRY, LORD JOHN OF LANCASTER, the EARL of WESTMORELAND, SIR WALTER BLUNT, and others</td>\n",
              "    </tr>\n",
              "    <tr>\n",
              "      <th>3</th>\n",
              "      <td>4</td>\n",
              "      <td>Henry IV</td>\n",
              "      <td>1.0</td>\n",
              "      <td>1.1.1</td>\n",
              "      <td>KING HENRY IV</td>\n",
              "      <td>So shaken as we are, so wan with care,</td>\n",
              "    </tr>\n",
              "    <tr>\n",
              "      <th>4</th>\n",
              "      <td>5</td>\n",
              "      <td>Henry IV</td>\n",
              "      <td>1.0</td>\n",
              "      <td>1.1.2</td>\n",
              "      <td>KING HENRY IV</td>\n",
              "      <td>Find we a time for frighted peace to pant,</td>\n",
              "    </tr>\n",
              "  </tbody>\n",
              "</table>\n",
              "</div>\n",
              "    <div class=\"colab-df-buttons\">\n",
              "\n",
              "  <div class=\"colab-df-container\">\n",
              "    <button class=\"colab-df-convert\" onclick=\"convertToInteractive('df-184bf130-786c-441e-a178-4727a5a71216')\"\n",
              "            title=\"Convert this dataframe to an interactive table.\"\n",
              "            style=\"display:none;\">\n",
              "\n",
              "  <svg xmlns=\"http://www.w3.org/2000/svg\" height=\"24px\" viewBox=\"0 -960 960 960\">\n",
              "    <path d=\"M120-120v-720h720v720H120Zm60-500h600v-160H180v160Zm220 220h160v-160H400v160Zm0 220h160v-160H400v160ZM180-400h160v-160H180v160Zm440 0h160v-160H620v160ZM180-180h160v-160H180v160Zm440 0h160v-160H620v160Z\"/>\n",
              "  </svg>\n",
              "    </button>\n",
              "\n",
              "  <style>\n",
              "    .colab-df-container {\n",
              "      display:flex;\n",
              "      gap: 12px;\n",
              "    }\n",
              "\n",
              "    .colab-df-convert {\n",
              "      background-color: #E8F0FE;\n",
              "      border: none;\n",
              "      border-radius: 50%;\n",
              "      cursor: pointer;\n",
              "      display: none;\n",
              "      fill: #1967D2;\n",
              "      height: 32px;\n",
              "      padding: 0 0 0 0;\n",
              "      width: 32px;\n",
              "    }\n",
              "\n",
              "    .colab-df-convert:hover {\n",
              "      background-color: #E2EBFA;\n",
              "      box-shadow: 0px 1px 2px rgba(60, 64, 67, 0.3), 0px 1px 3px 1px rgba(60, 64, 67, 0.15);\n",
              "      fill: #174EA6;\n",
              "    }\n",
              "\n",
              "    .colab-df-buttons div {\n",
              "      margin-bottom: 4px;\n",
              "    }\n",
              "\n",
              "    [theme=dark] .colab-df-convert {\n",
              "      background-color: #3B4455;\n",
              "      fill: #D2E3FC;\n",
              "    }\n",
              "\n",
              "    [theme=dark] .colab-df-convert:hover {\n",
              "      background-color: #434B5C;\n",
              "      box-shadow: 0px 1px 3px 1px rgba(0, 0, 0, 0.15);\n",
              "      filter: drop-shadow(0px 1px 2px rgba(0, 0, 0, 0.3));\n",
              "      fill: #FFFFFF;\n",
              "    }\n",
              "  </style>\n",
              "\n",
              "    <script>\n",
              "      const buttonEl =\n",
              "        document.querySelector('#df-184bf130-786c-441e-a178-4727a5a71216 button.colab-df-convert');\n",
              "      buttonEl.style.display =\n",
              "        google.colab.kernel.accessAllowed ? 'block' : 'none';\n",
              "\n",
              "      async function convertToInteractive(key) {\n",
              "        const element = document.querySelector('#df-184bf130-786c-441e-a178-4727a5a71216');\n",
              "        const dataTable =\n",
              "          await google.colab.kernel.invokeFunction('convertToInteractive',\n",
              "                                                    [key], {});\n",
              "        if (!dataTable) return;\n",
              "\n",
              "        const docLinkHtml = 'Like what you see? Visit the ' +\n",
              "          '<a target=\"_blank\" href=https://colab.research.google.com/notebooks/data_table.ipynb>data table notebook</a>'\n",
              "          + ' to learn more about interactive tables.';\n",
              "        element.innerHTML = '';\n",
              "        dataTable['output_type'] = 'display_data';\n",
              "        await google.colab.output.renderOutput(dataTable, element);\n",
              "        const docLink = document.createElement('div');\n",
              "        docLink.innerHTML = docLinkHtml;\n",
              "        element.appendChild(docLink);\n",
              "      }\n",
              "    </script>\n",
              "  </div>\n",
              "\n",
              "\n",
              "<div id=\"df-9cb62ec2-5668-47f0-a4d9-2e4cbbfaf14b\">\n",
              "  <button class=\"colab-df-quickchart\" onclick=\"quickchart('df-9cb62ec2-5668-47f0-a4d9-2e4cbbfaf14b')\"\n",
              "            title=\"Suggest charts\"\n",
              "            style=\"display:none;\">\n",
              "\n",
              "<svg xmlns=\"http://www.w3.org/2000/svg\" height=\"24px\"viewBox=\"0 0 24 24\"\n",
              "     width=\"24px\">\n",
              "    <g>\n",
              "        <path d=\"M19 3H5c-1.1 0-2 .9-2 2v14c0 1.1.9 2 2 2h14c1.1 0 2-.9 2-2V5c0-1.1-.9-2-2-2zM9 17H7v-7h2v7zm4 0h-2V7h2v10zm4 0h-2v-4h2v4z\"/>\n",
              "    </g>\n",
              "</svg>\n",
              "  </button>\n",
              "\n",
              "<style>\n",
              "  .colab-df-quickchart {\n",
              "      --bg-color: #E8F0FE;\n",
              "      --fill-color: #1967D2;\n",
              "      --hover-bg-color: #E2EBFA;\n",
              "      --hover-fill-color: #174EA6;\n",
              "      --disabled-fill-color: #AAA;\n",
              "      --disabled-bg-color: #DDD;\n",
              "  }\n",
              "\n",
              "  [theme=dark] .colab-df-quickchart {\n",
              "      --bg-color: #3B4455;\n",
              "      --fill-color: #D2E3FC;\n",
              "      --hover-bg-color: #434B5C;\n",
              "      --hover-fill-color: #FFFFFF;\n",
              "      --disabled-bg-color: #3B4455;\n",
              "      --disabled-fill-color: #666;\n",
              "  }\n",
              "\n",
              "  .colab-df-quickchart {\n",
              "    background-color: var(--bg-color);\n",
              "    border: none;\n",
              "    border-radius: 50%;\n",
              "    cursor: pointer;\n",
              "    display: none;\n",
              "    fill: var(--fill-color);\n",
              "    height: 32px;\n",
              "    padding: 0;\n",
              "    width: 32px;\n",
              "  }\n",
              "\n",
              "  .colab-df-quickchart:hover {\n",
              "    background-color: var(--hover-bg-color);\n",
              "    box-shadow: 0 1px 2px rgba(60, 64, 67, 0.3), 0 1px 3px 1px rgba(60, 64, 67, 0.15);\n",
              "    fill: var(--button-hover-fill-color);\n",
              "  }\n",
              "\n",
              "  .colab-df-quickchart-complete:disabled,\n",
              "  .colab-df-quickchart-complete:disabled:hover {\n",
              "    background-color: var(--disabled-bg-color);\n",
              "    fill: var(--disabled-fill-color);\n",
              "    box-shadow: none;\n",
              "  }\n",
              "\n",
              "  .colab-df-spinner {\n",
              "    border: 2px solid var(--fill-color);\n",
              "    border-color: transparent;\n",
              "    border-bottom-color: var(--fill-color);\n",
              "    animation:\n",
              "      spin 1s steps(1) infinite;\n",
              "  }\n",
              "\n",
              "  @keyframes spin {\n",
              "    0% {\n",
              "      border-color: transparent;\n",
              "      border-bottom-color: var(--fill-color);\n",
              "      border-left-color: var(--fill-color);\n",
              "    }\n",
              "    20% {\n",
              "      border-color: transparent;\n",
              "      border-left-color: var(--fill-color);\n",
              "      border-top-color: var(--fill-color);\n",
              "    }\n",
              "    30% {\n",
              "      border-color: transparent;\n",
              "      border-left-color: var(--fill-color);\n",
              "      border-top-color: var(--fill-color);\n",
              "      border-right-color: var(--fill-color);\n",
              "    }\n",
              "    40% {\n",
              "      border-color: transparent;\n",
              "      border-right-color: var(--fill-color);\n",
              "      border-top-color: var(--fill-color);\n",
              "    }\n",
              "    60% {\n",
              "      border-color: transparent;\n",
              "      border-right-color: var(--fill-color);\n",
              "    }\n",
              "    80% {\n",
              "      border-color: transparent;\n",
              "      border-right-color: var(--fill-color);\n",
              "      border-bottom-color: var(--fill-color);\n",
              "    }\n",
              "    90% {\n",
              "      border-color: transparent;\n",
              "      border-bottom-color: var(--fill-color);\n",
              "    }\n",
              "  }\n",
              "</style>\n",
              "\n",
              "  <script>\n",
              "    async function quickchart(key) {\n",
              "      const quickchartButtonEl =\n",
              "        document.querySelector('#' + key + ' button');\n",
              "      quickchartButtonEl.disabled = true;  // To prevent multiple clicks.\n",
              "      quickchartButtonEl.classList.add('colab-df-spinner');\n",
              "      try {\n",
              "        const charts = await google.colab.kernel.invokeFunction(\n",
              "            'suggestCharts', [key], {});\n",
              "      } catch (error) {\n",
              "        console.error('Error during call to suggestCharts:', error);\n",
              "      }\n",
              "      quickchartButtonEl.classList.remove('colab-df-spinner');\n",
              "      quickchartButtonEl.classList.add('colab-df-quickchart-complete');\n",
              "    }\n",
              "    (() => {\n",
              "      let quickchartButtonEl =\n",
              "        document.querySelector('#df-9cb62ec2-5668-47f0-a4d9-2e4cbbfaf14b button');\n",
              "      quickchartButtonEl.style.display =\n",
              "        google.colab.kernel.accessAllowed ? 'block' : 'none';\n",
              "    })();\n",
              "  </script>\n",
              "</div>\n",
              "\n",
              "    </div>\n",
              "  </div>\n"
            ],
            "application/vnd.google.colaboratory.intrinsic+json": {
              "type": "dataframe",
              "variable_name": "df"
            }
          },
          "metadata": {},
          "execution_count": 9
        }
      ],
      "source": [
        "df.head()"
      ]
    },
    {
      "cell_type": "markdown",
      "id": "a6878e65-275e-48f0-9753-649d8fc77f5e",
      "metadata": {
        "id": "a6878e65-275e-48f0-9753-649d8fc77f5e"
      },
      "source": [
        "### Prepare data"
      ]
    },
    {
      "cell_type": "code",
      "execution_count": null,
      "id": "2676bed9-5c00-4953-a435-6d1b47989940",
      "metadata": {
        "id": "2676bed9-5c00-4953-a435-6d1b47989940",
        "colab": {
          "base_uri": "https://localhost:8080/",
          "height": 206
        },
        "outputId": "bb7cec84-05c7-478a-dbf7-4db0a5780f8b"
      },
      "outputs": [
        {
          "output_type": "execute_result",
          "data": {
            "text/plain": [
              "          Player  \\\n",
              "0            NaN   \n",
              "1            NaN   \n",
              "2            NaN   \n",
              "3  KING HENRY IV   \n",
              "4  KING HENRY IV   \n",
              "\n",
              "                                                                                         PlayerLine  \n",
              "0                                                                                             ACT I  \n",
              "1                                                                      SCENE I. London. The palace.  \n",
              "2  Enter KING HENRY, LORD JOHN OF LANCASTER, the EARL of WESTMORELAND, SIR WALTER BLUNT, and others  \n",
              "3                                                            So shaken as we are, so wan with care,  \n",
              "4                                                        Find we a time for frighted peace to pant,  "
            ],
            "text/html": [
              "\n",
              "  <div id=\"df-4097376d-e44e-4123-b91e-5a43035119a7\" class=\"colab-df-container\">\n",
              "    <div>\n",
              "<style scoped>\n",
              "    .dataframe tbody tr th:only-of-type {\n",
              "        vertical-align: middle;\n",
              "    }\n",
              "\n",
              "    .dataframe tbody tr th {\n",
              "        vertical-align: top;\n",
              "    }\n",
              "\n",
              "    .dataframe thead th {\n",
              "        text-align: right;\n",
              "    }\n",
              "</style>\n",
              "<table border=\"1\" class=\"dataframe\">\n",
              "  <thead>\n",
              "    <tr style=\"text-align: right;\">\n",
              "      <th></th>\n",
              "      <th>Player</th>\n",
              "      <th>PlayerLine</th>\n",
              "    </tr>\n",
              "  </thead>\n",
              "  <tbody>\n",
              "    <tr>\n",
              "      <th>0</th>\n",
              "      <td>NaN</td>\n",
              "      <td>ACT I</td>\n",
              "    </tr>\n",
              "    <tr>\n",
              "      <th>1</th>\n",
              "      <td>NaN</td>\n",
              "      <td>SCENE I. London. The palace.</td>\n",
              "    </tr>\n",
              "    <tr>\n",
              "      <th>2</th>\n",
              "      <td>NaN</td>\n",
              "      <td>Enter KING HENRY, LORD JOHN OF LANCASTER, the EARL of WESTMORELAND, SIR WALTER BLUNT, and others</td>\n",
              "    </tr>\n",
              "    <tr>\n",
              "      <th>3</th>\n",
              "      <td>KING HENRY IV</td>\n",
              "      <td>So shaken as we are, so wan with care,</td>\n",
              "    </tr>\n",
              "    <tr>\n",
              "      <th>4</th>\n",
              "      <td>KING HENRY IV</td>\n",
              "      <td>Find we a time for frighted peace to pant,</td>\n",
              "    </tr>\n",
              "  </tbody>\n",
              "</table>\n",
              "</div>\n",
              "    <div class=\"colab-df-buttons\">\n",
              "\n",
              "  <div class=\"colab-df-container\">\n",
              "    <button class=\"colab-df-convert\" onclick=\"convertToInteractive('df-4097376d-e44e-4123-b91e-5a43035119a7')\"\n",
              "            title=\"Convert this dataframe to an interactive table.\"\n",
              "            style=\"display:none;\">\n",
              "\n",
              "  <svg xmlns=\"http://www.w3.org/2000/svg\" height=\"24px\" viewBox=\"0 -960 960 960\">\n",
              "    <path d=\"M120-120v-720h720v720H120Zm60-500h600v-160H180v160Zm220 220h160v-160H400v160Zm0 220h160v-160H400v160ZM180-400h160v-160H180v160Zm440 0h160v-160H620v160ZM180-180h160v-160H180v160Zm440 0h160v-160H620v160Z\"/>\n",
              "  </svg>\n",
              "    </button>\n",
              "\n",
              "  <style>\n",
              "    .colab-df-container {\n",
              "      display:flex;\n",
              "      gap: 12px;\n",
              "    }\n",
              "\n",
              "    .colab-df-convert {\n",
              "      background-color: #E8F0FE;\n",
              "      border: none;\n",
              "      border-radius: 50%;\n",
              "      cursor: pointer;\n",
              "      display: none;\n",
              "      fill: #1967D2;\n",
              "      height: 32px;\n",
              "      padding: 0 0 0 0;\n",
              "      width: 32px;\n",
              "    }\n",
              "\n",
              "    .colab-df-convert:hover {\n",
              "      background-color: #E2EBFA;\n",
              "      box-shadow: 0px 1px 2px rgba(60, 64, 67, 0.3), 0px 1px 3px 1px rgba(60, 64, 67, 0.15);\n",
              "      fill: #174EA6;\n",
              "    }\n",
              "\n",
              "    .colab-df-buttons div {\n",
              "      margin-bottom: 4px;\n",
              "    }\n",
              "\n",
              "    [theme=dark] .colab-df-convert {\n",
              "      background-color: #3B4455;\n",
              "      fill: #D2E3FC;\n",
              "    }\n",
              "\n",
              "    [theme=dark] .colab-df-convert:hover {\n",
              "      background-color: #434B5C;\n",
              "      box-shadow: 0px 1px 3px 1px rgba(0, 0, 0, 0.15);\n",
              "      filter: drop-shadow(0px 1px 2px rgba(0, 0, 0, 0.3));\n",
              "      fill: #FFFFFF;\n",
              "    }\n",
              "  </style>\n",
              "\n",
              "    <script>\n",
              "      const buttonEl =\n",
              "        document.querySelector('#df-4097376d-e44e-4123-b91e-5a43035119a7 button.colab-df-convert');\n",
              "      buttonEl.style.display =\n",
              "        google.colab.kernel.accessAllowed ? 'block' : 'none';\n",
              "\n",
              "      async function convertToInteractive(key) {\n",
              "        const element = document.querySelector('#df-4097376d-e44e-4123-b91e-5a43035119a7');\n",
              "        const dataTable =\n",
              "          await google.colab.kernel.invokeFunction('convertToInteractive',\n",
              "                                                    [key], {});\n",
              "        if (!dataTable) return;\n",
              "\n",
              "        const docLinkHtml = 'Like what you see? Visit the ' +\n",
              "          '<a target=\"_blank\" href=https://colab.research.google.com/notebooks/data_table.ipynb>data table notebook</a>'\n",
              "          + ' to learn more about interactive tables.';\n",
              "        element.innerHTML = '';\n",
              "        dataTable['output_type'] = 'display_data';\n",
              "        await google.colab.output.renderOutput(dataTable, element);\n",
              "        const docLink = document.createElement('div');\n",
              "        docLink.innerHTML = docLinkHtml;\n",
              "        element.appendChild(docLink);\n",
              "      }\n",
              "    </script>\n",
              "  </div>\n",
              "\n",
              "\n",
              "<div id=\"df-cbeacd35-6e38-49c0-88bb-c9c0533289c6\">\n",
              "  <button class=\"colab-df-quickchart\" onclick=\"quickchart('df-cbeacd35-6e38-49c0-88bb-c9c0533289c6')\"\n",
              "            title=\"Suggest charts\"\n",
              "            style=\"display:none;\">\n",
              "\n",
              "<svg xmlns=\"http://www.w3.org/2000/svg\" height=\"24px\"viewBox=\"0 0 24 24\"\n",
              "     width=\"24px\">\n",
              "    <g>\n",
              "        <path d=\"M19 3H5c-1.1 0-2 .9-2 2v14c0 1.1.9 2 2 2h14c1.1 0 2-.9 2-2V5c0-1.1-.9-2-2-2zM9 17H7v-7h2v7zm4 0h-2V7h2v10zm4 0h-2v-4h2v4z\"/>\n",
              "    </g>\n",
              "</svg>\n",
              "  </button>\n",
              "\n",
              "<style>\n",
              "  .colab-df-quickchart {\n",
              "      --bg-color: #E8F0FE;\n",
              "      --fill-color: #1967D2;\n",
              "      --hover-bg-color: #E2EBFA;\n",
              "      --hover-fill-color: #174EA6;\n",
              "      --disabled-fill-color: #AAA;\n",
              "      --disabled-bg-color: #DDD;\n",
              "  }\n",
              "\n",
              "  [theme=dark] .colab-df-quickchart {\n",
              "      --bg-color: #3B4455;\n",
              "      --fill-color: #D2E3FC;\n",
              "      --hover-bg-color: #434B5C;\n",
              "      --hover-fill-color: #FFFFFF;\n",
              "      --disabled-bg-color: #3B4455;\n",
              "      --disabled-fill-color: #666;\n",
              "  }\n",
              "\n",
              "  .colab-df-quickchart {\n",
              "    background-color: var(--bg-color);\n",
              "    border: none;\n",
              "    border-radius: 50%;\n",
              "    cursor: pointer;\n",
              "    display: none;\n",
              "    fill: var(--fill-color);\n",
              "    height: 32px;\n",
              "    padding: 0;\n",
              "    width: 32px;\n",
              "  }\n",
              "\n",
              "  .colab-df-quickchart:hover {\n",
              "    background-color: var(--hover-bg-color);\n",
              "    box-shadow: 0 1px 2px rgba(60, 64, 67, 0.3), 0 1px 3px 1px rgba(60, 64, 67, 0.15);\n",
              "    fill: var(--button-hover-fill-color);\n",
              "  }\n",
              "\n",
              "  .colab-df-quickchart-complete:disabled,\n",
              "  .colab-df-quickchart-complete:disabled:hover {\n",
              "    background-color: var(--disabled-bg-color);\n",
              "    fill: var(--disabled-fill-color);\n",
              "    box-shadow: none;\n",
              "  }\n",
              "\n",
              "  .colab-df-spinner {\n",
              "    border: 2px solid var(--fill-color);\n",
              "    border-color: transparent;\n",
              "    border-bottom-color: var(--fill-color);\n",
              "    animation:\n",
              "      spin 1s steps(1) infinite;\n",
              "  }\n",
              "\n",
              "  @keyframes spin {\n",
              "    0% {\n",
              "      border-color: transparent;\n",
              "      border-bottom-color: var(--fill-color);\n",
              "      border-left-color: var(--fill-color);\n",
              "    }\n",
              "    20% {\n",
              "      border-color: transparent;\n",
              "      border-left-color: var(--fill-color);\n",
              "      border-top-color: var(--fill-color);\n",
              "    }\n",
              "    30% {\n",
              "      border-color: transparent;\n",
              "      border-left-color: var(--fill-color);\n",
              "      border-top-color: var(--fill-color);\n",
              "      border-right-color: var(--fill-color);\n",
              "    }\n",
              "    40% {\n",
              "      border-color: transparent;\n",
              "      border-right-color: var(--fill-color);\n",
              "      border-top-color: var(--fill-color);\n",
              "    }\n",
              "    60% {\n",
              "      border-color: transparent;\n",
              "      border-right-color: var(--fill-color);\n",
              "    }\n",
              "    80% {\n",
              "      border-color: transparent;\n",
              "      border-right-color: var(--fill-color);\n",
              "      border-bottom-color: var(--fill-color);\n",
              "    }\n",
              "    90% {\n",
              "      border-color: transparent;\n",
              "      border-bottom-color: var(--fill-color);\n",
              "    }\n",
              "  }\n",
              "</style>\n",
              "\n",
              "  <script>\n",
              "    async function quickchart(key) {\n",
              "      const quickchartButtonEl =\n",
              "        document.querySelector('#' + key + ' button');\n",
              "      quickchartButtonEl.disabled = true;  // To prevent multiple clicks.\n",
              "      quickchartButtonEl.classList.add('colab-df-spinner');\n",
              "      try {\n",
              "        const charts = await google.colab.kernel.invokeFunction(\n",
              "            'suggestCharts', [key], {});\n",
              "      } catch (error) {\n",
              "        console.error('Error during call to suggestCharts:', error);\n",
              "      }\n",
              "      quickchartButtonEl.classList.remove('colab-df-spinner');\n",
              "      quickchartButtonEl.classList.add('colab-df-quickchart-complete');\n",
              "    }\n",
              "    (() => {\n",
              "      let quickchartButtonEl =\n",
              "        document.querySelector('#df-cbeacd35-6e38-49c0-88bb-c9c0533289c6 button');\n",
              "      quickchartButtonEl.style.display =\n",
              "        google.colab.kernel.accessAllowed ? 'block' : 'none';\n",
              "    })();\n",
              "  </script>\n",
              "</div>\n",
              "\n",
              "    </div>\n",
              "  </div>\n"
            ],
            "application/vnd.google.colaboratory.intrinsic+json": {
              "type": "dataframe",
              "variable_name": "df"
            }
          },
          "metadata": {},
          "execution_count": 10
        }
      ],
      "source": [
        "# Review columns and drop unnecessary columns\n",
        "df.drop(['Dataline','Play','PlayerLinenumber','ActSceneLine'], axis=1, inplace=True)\n",
        "df.head()"
      ]
    },
    {
      "cell_type": "code",
      "execution_count": null,
      "id": "9c416b90-9c2a-4b75-82ae-2eb08cddf8fb",
      "metadata": {
        "id": "9c416b90-9c2a-4b75-82ae-2eb08cddf8fb",
        "colab": {
          "base_uri": "https://localhost:8080/",
          "height": 147
        },
        "outputId": "c4fb0476-7e32-44ca-a31d-8330029da994"
      },
      "outputs": [
        {
          "output_type": "execute_result",
          "data": {
            "text/plain": [
              "Player        7\n",
              "PlayerLine    0\n",
              "dtype: int64"
            ],
            "text/html": [
              "<div>\n",
              "<style scoped>\n",
              "    .dataframe tbody tr th:only-of-type {\n",
              "        vertical-align: middle;\n",
              "    }\n",
              "\n",
              "    .dataframe tbody tr th {\n",
              "        vertical-align: top;\n",
              "    }\n",
              "\n",
              "    .dataframe thead th {\n",
              "        text-align: right;\n",
              "    }\n",
              "</style>\n",
              "<table border=\"1\" class=\"dataframe\">\n",
              "  <thead>\n",
              "    <tr style=\"text-align: right;\">\n",
              "      <th></th>\n",
              "      <th>0</th>\n",
              "    </tr>\n",
              "  </thead>\n",
              "  <tbody>\n",
              "    <tr>\n",
              "      <th>Player</th>\n",
              "      <td>7</td>\n",
              "    </tr>\n",
              "    <tr>\n",
              "      <th>PlayerLine</th>\n",
              "      <td>0</td>\n",
              "    </tr>\n",
              "  </tbody>\n",
              "</table>\n",
              "</div><br><label><b>dtype:</b> int64</label>"
            ]
          },
          "metadata": {},
          "execution_count": 11
        }
      ],
      "source": [
        "# Check for missing values\n",
        "df.isnull().sum()"
      ]
    },
    {
      "cell_type": "code",
      "execution_count": null,
      "id": "2d8bec4b-0b8d-4565-82f4-7cbae9a902de",
      "metadata": {
        "id": "2d8bec4b-0b8d-4565-82f4-7cbae9a902de",
        "colab": {
          "base_uri": "https://localhost:8080/",
          "height": 147
        },
        "outputId": "9fc4dbcb-d4c0-4db9-fd00-eb32518aa721"
      },
      "outputs": [
        {
          "output_type": "execute_result",
          "data": {
            "text/plain": [
              "Player        0\n",
              "PlayerLine    0\n",
              "dtype: int64"
            ],
            "text/html": [
              "<div>\n",
              "<style scoped>\n",
              "    .dataframe tbody tr th:only-of-type {\n",
              "        vertical-align: middle;\n",
              "    }\n",
              "\n",
              "    .dataframe tbody tr th {\n",
              "        vertical-align: top;\n",
              "    }\n",
              "\n",
              "    .dataframe thead th {\n",
              "        text-align: right;\n",
              "    }\n",
              "</style>\n",
              "<table border=\"1\" class=\"dataframe\">\n",
              "  <thead>\n",
              "    <tr style=\"text-align: right;\">\n",
              "      <th></th>\n",
              "      <th>0</th>\n",
              "    </tr>\n",
              "  </thead>\n",
              "  <tbody>\n",
              "    <tr>\n",
              "      <th>Player</th>\n",
              "      <td>0</td>\n",
              "    </tr>\n",
              "    <tr>\n",
              "      <th>PlayerLine</th>\n",
              "      <td>0</td>\n",
              "    </tr>\n",
              "  </tbody>\n",
              "</table>\n",
              "</div><br><label><b>dtype:</b> int64</label>"
            ]
          },
          "metadata": {},
          "execution_count": 12
        }
      ],
      "source": [
        "# Drop rows with missing values\n",
        "df=df.dropna().reset_index(drop=True)\n",
        "df.isnull().sum()"
      ]
    },
    {
      "cell_type": "code",
      "execution_count": null,
      "id": "6b2c98bb-2c46-42fe-9122-549f57cf94f4",
      "metadata": {
        "id": "6b2c98bb-2c46-42fe-9122-549f57cf94f4"
      },
      "outputs": [],
      "source": [
        "# Combine relevant columns for Word2Vec model training\n",
        "df['combined_text']=df['Player']+' '+df['PlayerLine']"
      ]
    },
    {
      "cell_type": "code",
      "source": [
        "df['combined_text']"
      ],
      "metadata": {
        "colab": {
          "base_uri": "https://localhost:8080/",
          "height": 458
        },
        "id": "f0diR5WfjHkl",
        "outputId": "ee123264-063c-410c-8bf4-fd39d9b5235d"
      },
      "id": "f0diR5WfjHkl",
      "execution_count": null,
      "outputs": [
        {
          "output_type": "execute_result",
          "data": {
            "text/plain": [
              "0                 KING HENRY IV So shaken as we are, so wan with care,\n",
              "1             KING HENRY IV Find we a time for frighted peace to pant,\n",
              "2         KING HENRY IV And breathe short-winded accents of new broils\n",
              "3                KING HENRY IV To be commenced in strands afar remote.\n",
              "4              KING HENRY IV No more the thirsty entrance of this soil\n",
              "                                      ...                             \n",
              "111384              LEONTES Lead us from hence, where we may leisurely\n",
              "111385                   LEONTES Each one demand an answer to his part\n",
              "111386          LEONTES Perform'd in this wide gap of time since first\n",
              "111387                  LEONTES We were dissever'd: hastily lead away.\n",
              "111388                                                  LEONTES Exeunt\n",
              "Name: combined_text, Length: 111389, dtype: object"
            ],
            "text/html": [
              "<div>\n",
              "<style scoped>\n",
              "    .dataframe tbody tr th:only-of-type {\n",
              "        vertical-align: middle;\n",
              "    }\n",
              "\n",
              "    .dataframe tbody tr th {\n",
              "        vertical-align: top;\n",
              "    }\n",
              "\n",
              "    .dataframe thead th {\n",
              "        text-align: right;\n",
              "    }\n",
              "</style>\n",
              "<table border=\"1\" class=\"dataframe\">\n",
              "  <thead>\n",
              "    <tr style=\"text-align: right;\">\n",
              "      <th></th>\n",
              "      <th>combined_text</th>\n",
              "    </tr>\n",
              "  </thead>\n",
              "  <tbody>\n",
              "    <tr>\n",
              "      <th>0</th>\n",
              "      <td>KING HENRY IV So shaken as we are, so wan with care,</td>\n",
              "    </tr>\n",
              "    <tr>\n",
              "      <th>1</th>\n",
              "      <td>KING HENRY IV Find we a time for frighted peace to pant,</td>\n",
              "    </tr>\n",
              "    <tr>\n",
              "      <th>2</th>\n",
              "      <td>KING HENRY IV And breathe short-winded accents of new broils</td>\n",
              "    </tr>\n",
              "    <tr>\n",
              "      <th>3</th>\n",
              "      <td>KING HENRY IV To be commenced in strands afar remote.</td>\n",
              "    </tr>\n",
              "    <tr>\n",
              "      <th>4</th>\n",
              "      <td>KING HENRY IV No more the thirsty entrance of this soil</td>\n",
              "    </tr>\n",
              "    <tr>\n",
              "      <th>...</th>\n",
              "      <td>...</td>\n",
              "    </tr>\n",
              "    <tr>\n",
              "      <th>111384</th>\n",
              "      <td>LEONTES Lead us from hence, where we may leisurely</td>\n",
              "    </tr>\n",
              "    <tr>\n",
              "      <th>111385</th>\n",
              "      <td>LEONTES Each one demand an answer to his part</td>\n",
              "    </tr>\n",
              "    <tr>\n",
              "      <th>111386</th>\n",
              "      <td>LEONTES Perform'd in this wide gap of time since first</td>\n",
              "    </tr>\n",
              "    <tr>\n",
              "      <th>111387</th>\n",
              "      <td>LEONTES We were dissever'd: hastily lead away.</td>\n",
              "    </tr>\n",
              "    <tr>\n",
              "      <th>111388</th>\n",
              "      <td>LEONTES Exeunt</td>\n",
              "    </tr>\n",
              "  </tbody>\n",
              "</table>\n",
              "<p>111389 rows × 1 columns</p>\n",
              "</div><br><label><b>dtype:</b> object</label>"
            ]
          },
          "metadata": {},
          "execution_count": 14
        }
      ]
    },
    {
      "cell_type": "markdown",
      "source": [
        "### Perform necessary text preprocessing"
      ],
      "metadata": {
        "id": "Xf1XcQcjgq-9"
      },
      "id": "Xf1XcQcjgq-9"
    },
    {
      "cell_type": "code",
      "execution_count": null,
      "id": "00dff6cf-d5c1-40df-9e03-e55f414bf3dc",
      "metadata": {
        "id": "00dff6cf-d5c1-40df-9e03-e55f414bf3dc"
      },
      "outputs": [],
      "source": [
        "lem = WordNetLemmatizer()\n",
        "stop = set(stopwords.words('english'))\n",
        "punct = string.punctuation"
      ]
    },
    {
      "cell_type": "code",
      "execution_count": null,
      "id": "6d08cded-b50b-4e1c-a99d-1003c6c2d09e",
      "metadata": {
        "id": "6d08cded-b50b-4e1c-a99d-1003c6c2d09e"
      },
      "outputs": [],
      "source": [
        "# Create function to clean_text\n",
        "def clean_text(text):\n",
        "    text = re.sub(r'\\s+', ' ', text).translate(str.maketrans('', '', punct)).lower()\n",
        "    tokens = text.split()\n",
        "    tokens = [lem.lemmatize(word) for word in tokens if word not in stop]\n",
        "    if len(tokens) > 2:\n",
        "        return ' '.join(tokens)"
      ]
    },
    {
      "cell_type": "code",
      "execution_count": null,
      "id": "64b0f486-a6ca-45ef-814f-c87cc5b95f4b",
      "metadata": {
        "id": "64b0f486-a6ca-45ef-814f-c87cc5b95f4b",
        "colab": {
          "base_uri": "https://localhost:8080/"
        },
        "outputId": "9dff474c-c3d6-4216-d8d8-f74dbf3628ec"
      },
      "outputs": [
        {
          "output_type": "stream",
          "name": "stdout",
          "text": [
            "CPU times: user 9.85 s, sys: 193 ms, total: 10 s\n",
            "Wall time: 15.5 s\n"
          ]
        }
      ],
      "source": [
        "%%time\n",
        "\n",
        "# Clean combined text column\n",
        "df['cleaned_combined_text']=df['combined_text'].apply(clean_text)"
      ]
    },
    {
      "cell_type": "code",
      "execution_count": null,
      "id": "0d6e7d54-b439-464e-84ee-9afdc403f385",
      "metadata": {
        "id": "0d6e7d54-b439-464e-84ee-9afdc403f385",
        "colab": {
          "base_uri": "https://localhost:8080/",
          "height": 554
        },
        "outputId": "f7cfc3f6-798c-4904-de2c-d193dc23793a"
      },
      "outputs": [
        {
          "output_type": "execute_result",
          "data": {
            "text/plain": [
              "0                          king henry iv shaken wan care\n",
              "1            king henry iv find time frighted peace pant\n",
              "2     king henry iv breathe shortwinded accent new broil\n",
              "3             king henry iv commenced strand afar remote\n",
              "4                    king henry iv thirsty entrance soil\n",
              "5           king henry iv shall daub lip childrens blood\n",
              "6        king henry iv shall trenching war channel field\n",
              "7               king henry iv bruise floweret armed hoof\n",
              "8                 king henry iv hostile pace opposed eye\n",
              "9              king henry iv like meteor troubled heaven\n",
              "10           king henry iv one nature one substance bred\n",
              "11             king henry iv lately meet intestine shock\n",
              "12            king henry iv furious close civil butchery\n",
              "13         king henry iv shall mutual wellbeseeming rank\n",
              "14                   king henry iv march one way opposed\n",
              "Name: cleaned_combined_text, dtype: object"
            ],
            "text/html": [
              "<div>\n",
              "<style scoped>\n",
              "    .dataframe tbody tr th:only-of-type {\n",
              "        vertical-align: middle;\n",
              "    }\n",
              "\n",
              "    .dataframe tbody tr th {\n",
              "        vertical-align: top;\n",
              "    }\n",
              "\n",
              "    .dataframe thead th {\n",
              "        text-align: right;\n",
              "    }\n",
              "</style>\n",
              "<table border=\"1\" class=\"dataframe\">\n",
              "  <thead>\n",
              "    <tr style=\"text-align: right;\">\n",
              "      <th></th>\n",
              "      <th>cleaned_combined_text</th>\n",
              "    </tr>\n",
              "  </thead>\n",
              "  <tbody>\n",
              "    <tr>\n",
              "      <th>0</th>\n",
              "      <td>king henry iv shaken wan care</td>\n",
              "    </tr>\n",
              "    <tr>\n",
              "      <th>1</th>\n",
              "      <td>king henry iv find time frighted peace pant</td>\n",
              "    </tr>\n",
              "    <tr>\n",
              "      <th>2</th>\n",
              "      <td>king henry iv breathe shortwinded accent new broil</td>\n",
              "    </tr>\n",
              "    <tr>\n",
              "      <th>3</th>\n",
              "      <td>king henry iv commenced strand afar remote</td>\n",
              "    </tr>\n",
              "    <tr>\n",
              "      <th>4</th>\n",
              "      <td>king henry iv thirsty entrance soil</td>\n",
              "    </tr>\n",
              "    <tr>\n",
              "      <th>5</th>\n",
              "      <td>king henry iv shall daub lip childrens blood</td>\n",
              "    </tr>\n",
              "    <tr>\n",
              "      <th>6</th>\n",
              "      <td>king henry iv shall trenching war channel field</td>\n",
              "    </tr>\n",
              "    <tr>\n",
              "      <th>7</th>\n",
              "      <td>king henry iv bruise floweret armed hoof</td>\n",
              "    </tr>\n",
              "    <tr>\n",
              "      <th>8</th>\n",
              "      <td>king henry iv hostile pace opposed eye</td>\n",
              "    </tr>\n",
              "    <tr>\n",
              "      <th>9</th>\n",
              "      <td>king henry iv like meteor troubled heaven</td>\n",
              "    </tr>\n",
              "    <tr>\n",
              "      <th>10</th>\n",
              "      <td>king henry iv one nature one substance bred</td>\n",
              "    </tr>\n",
              "    <tr>\n",
              "      <th>11</th>\n",
              "      <td>king henry iv lately meet intestine shock</td>\n",
              "    </tr>\n",
              "    <tr>\n",
              "      <th>12</th>\n",
              "      <td>king henry iv furious close civil butchery</td>\n",
              "    </tr>\n",
              "    <tr>\n",
              "      <th>13</th>\n",
              "      <td>king henry iv shall mutual wellbeseeming rank</td>\n",
              "    </tr>\n",
              "    <tr>\n",
              "      <th>14</th>\n",
              "      <td>king henry iv march one way opposed</td>\n",
              "    </tr>\n",
              "  </tbody>\n",
              "</table>\n",
              "</div><br><label><b>dtype:</b> object</label>"
            ]
          },
          "metadata": {},
          "execution_count": 18
        }
      ],
      "source": [
        "# Display the first few rows of cleaned combined text column\n",
        "df['cleaned_combined_text'].head(15)"
      ]
    },
    {
      "cell_type": "code",
      "execution_count": null,
      "id": "ca476618-7439-46df-a326-2268036f4143",
      "metadata": {
        "id": "ca476618-7439-46df-a326-2268036f4143",
        "colab": {
          "base_uri": "https://localhost:8080/"
        },
        "outputId": "471f12c2-650e-43b0-c4eb-6a42850ec580"
      },
      "outputs": [
        {
          "output_type": "execute_result",
          "data": {
            "text/plain": [
              "(105143, 4)"
            ]
          },
          "metadata": {},
          "execution_count": 19
        }
      ],
      "source": [
        "# Drop rows with missing values\n",
        "df = df.dropna().reset_index(drop=True)\n",
        "df.shape"
      ]
    },
    {
      "cell_type": "code",
      "execution_count": null,
      "id": "0de6a9ac-d40c-4c39-bbe8-a697b14aff2e",
      "metadata": {
        "id": "0de6a9ac-d40c-4c39-bbe8-a697b14aff2e",
        "colab": {
          "base_uri": "https://localhost:8080/"
        },
        "outputId": "6a39a5b9-f0d0-4918-cc3c-540dd1cf66d5"
      },
      "outputs": [
        {
          "output_type": "execute_result",
          "data": {
            "text/plain": [
              "(104660, 4)"
            ]
          },
          "metadata": {},
          "execution_count": 20
        }
      ],
      "source": [
        "# Drop duplicates\n",
        "df.drop_duplicates(inplace=True)\n",
        "df.shape"
      ]
    },
    {
      "cell_type": "code",
      "source": [
        "# Tokenize cleaned combined text column\n",
        "df['cleaned_combined_text']=df['cleaned_combined_text'].apply(lambda x: x.split())"
      ],
      "metadata": {
        "id": "ChBHBqBcgMG2"
      },
      "id": "ChBHBqBcgMG2",
      "execution_count": null,
      "outputs": []
    },
    {
      "cell_type": "code",
      "execution_count": null,
      "id": "6ef3a6bf-2542-4246-b6d8-df6e2512d2ad",
      "metadata": {
        "id": "6ef3a6bf-2542-4246-b6d8-df6e2512d2ad",
        "colab": {
          "base_uri": "https://localhost:8080/",
          "height": 206
        },
        "outputId": "f9c1a47a-3c80-4564-e66d-de8c2d3c9d33"
      },
      "outputs": [
        {
          "output_type": "execute_result",
          "data": {
            "text/plain": [
              "          Player                                      PlayerLine  \\\n",
              "0  KING HENRY IV          So shaken as we are, so wan with care,   \n",
              "1  KING HENRY IV      Find we a time for frighted peace to pant,   \n",
              "2  KING HENRY IV  And breathe short-winded accents of new broils   \n",
              "3  KING HENRY IV         To be commenced in strands afar remote.   \n",
              "4  KING HENRY IV       No more the thirsty entrance of this soil   \n",
              "\n",
              "                                                  combined_text  \\\n",
              "0          KING HENRY IV So shaken as we are, so wan with care,   \n",
              "1      KING HENRY IV Find we a time for frighted peace to pant,   \n",
              "2  KING HENRY IV And breathe short-winded accents of new broils   \n",
              "3         KING HENRY IV To be commenced in strands afar remote.   \n",
              "4       KING HENRY IV No more the thirsty entrance of this soil   \n",
              "\n",
              "                                         cleaned_combined_text  \n",
              "0                         [king, henry, iv, shaken, wan, care]  \n",
              "1         [king, henry, iv, find, time, frighted, peace, pant]  \n",
              "2  [king, henry, iv, breathe, shortwinded, accent, new, broil]  \n",
              "3           [king, henry, iv, commenced, strand, afar, remote]  \n",
              "4                   [king, henry, iv, thirsty, entrance, soil]  "
            ],
            "text/html": [
              "\n",
              "  <div id=\"df-6953a9c1-bb06-4480-b746-5b77e06b3506\" class=\"colab-df-container\">\n",
              "    <div>\n",
              "<style scoped>\n",
              "    .dataframe tbody tr th:only-of-type {\n",
              "        vertical-align: middle;\n",
              "    }\n",
              "\n",
              "    .dataframe tbody tr th {\n",
              "        vertical-align: top;\n",
              "    }\n",
              "\n",
              "    .dataframe thead th {\n",
              "        text-align: right;\n",
              "    }\n",
              "</style>\n",
              "<table border=\"1\" class=\"dataframe\">\n",
              "  <thead>\n",
              "    <tr style=\"text-align: right;\">\n",
              "      <th></th>\n",
              "      <th>Player</th>\n",
              "      <th>PlayerLine</th>\n",
              "      <th>combined_text</th>\n",
              "      <th>cleaned_combined_text</th>\n",
              "    </tr>\n",
              "  </thead>\n",
              "  <tbody>\n",
              "    <tr>\n",
              "      <th>0</th>\n",
              "      <td>KING HENRY IV</td>\n",
              "      <td>So shaken as we are, so wan with care,</td>\n",
              "      <td>KING HENRY IV So shaken as we are, so wan with care,</td>\n",
              "      <td>[king, henry, iv, shaken, wan, care]</td>\n",
              "    </tr>\n",
              "    <tr>\n",
              "      <th>1</th>\n",
              "      <td>KING HENRY IV</td>\n",
              "      <td>Find we a time for frighted peace to pant,</td>\n",
              "      <td>KING HENRY IV Find we a time for frighted peace to pant,</td>\n",
              "      <td>[king, henry, iv, find, time, frighted, peace, pant]</td>\n",
              "    </tr>\n",
              "    <tr>\n",
              "      <th>2</th>\n",
              "      <td>KING HENRY IV</td>\n",
              "      <td>And breathe short-winded accents of new broils</td>\n",
              "      <td>KING HENRY IV And breathe short-winded accents of new broils</td>\n",
              "      <td>[king, henry, iv, breathe, shortwinded, accent, new, broil]</td>\n",
              "    </tr>\n",
              "    <tr>\n",
              "      <th>3</th>\n",
              "      <td>KING HENRY IV</td>\n",
              "      <td>To be commenced in strands afar remote.</td>\n",
              "      <td>KING HENRY IV To be commenced in strands afar remote.</td>\n",
              "      <td>[king, henry, iv, commenced, strand, afar, remote]</td>\n",
              "    </tr>\n",
              "    <tr>\n",
              "      <th>4</th>\n",
              "      <td>KING HENRY IV</td>\n",
              "      <td>No more the thirsty entrance of this soil</td>\n",
              "      <td>KING HENRY IV No more the thirsty entrance of this soil</td>\n",
              "      <td>[king, henry, iv, thirsty, entrance, soil]</td>\n",
              "    </tr>\n",
              "  </tbody>\n",
              "</table>\n",
              "</div>\n",
              "    <div class=\"colab-df-buttons\">\n",
              "\n",
              "  <div class=\"colab-df-container\">\n",
              "    <button class=\"colab-df-convert\" onclick=\"convertToInteractive('df-6953a9c1-bb06-4480-b746-5b77e06b3506')\"\n",
              "            title=\"Convert this dataframe to an interactive table.\"\n",
              "            style=\"display:none;\">\n",
              "\n",
              "  <svg xmlns=\"http://www.w3.org/2000/svg\" height=\"24px\" viewBox=\"0 -960 960 960\">\n",
              "    <path d=\"M120-120v-720h720v720H120Zm60-500h600v-160H180v160Zm220 220h160v-160H400v160Zm0 220h160v-160H400v160ZM180-400h160v-160H180v160Zm440 0h160v-160H620v160ZM180-180h160v-160H180v160Zm440 0h160v-160H620v160Z\"/>\n",
              "  </svg>\n",
              "    </button>\n",
              "\n",
              "  <style>\n",
              "    .colab-df-container {\n",
              "      display:flex;\n",
              "      gap: 12px;\n",
              "    }\n",
              "\n",
              "    .colab-df-convert {\n",
              "      background-color: #E8F0FE;\n",
              "      border: none;\n",
              "      border-radius: 50%;\n",
              "      cursor: pointer;\n",
              "      display: none;\n",
              "      fill: #1967D2;\n",
              "      height: 32px;\n",
              "      padding: 0 0 0 0;\n",
              "      width: 32px;\n",
              "    }\n",
              "\n",
              "    .colab-df-convert:hover {\n",
              "      background-color: #E2EBFA;\n",
              "      box-shadow: 0px 1px 2px rgba(60, 64, 67, 0.3), 0px 1px 3px 1px rgba(60, 64, 67, 0.15);\n",
              "      fill: #174EA6;\n",
              "    }\n",
              "\n",
              "    .colab-df-buttons div {\n",
              "      margin-bottom: 4px;\n",
              "    }\n",
              "\n",
              "    [theme=dark] .colab-df-convert {\n",
              "      background-color: #3B4455;\n",
              "      fill: #D2E3FC;\n",
              "    }\n",
              "\n",
              "    [theme=dark] .colab-df-convert:hover {\n",
              "      background-color: #434B5C;\n",
              "      box-shadow: 0px 1px 3px 1px rgba(0, 0, 0, 0.15);\n",
              "      filter: drop-shadow(0px 1px 2px rgba(0, 0, 0, 0.3));\n",
              "      fill: #FFFFFF;\n",
              "    }\n",
              "  </style>\n",
              "\n",
              "    <script>\n",
              "      const buttonEl =\n",
              "        document.querySelector('#df-6953a9c1-bb06-4480-b746-5b77e06b3506 button.colab-df-convert');\n",
              "      buttonEl.style.display =\n",
              "        google.colab.kernel.accessAllowed ? 'block' : 'none';\n",
              "\n",
              "      async function convertToInteractive(key) {\n",
              "        const element = document.querySelector('#df-6953a9c1-bb06-4480-b746-5b77e06b3506');\n",
              "        const dataTable =\n",
              "          await google.colab.kernel.invokeFunction('convertToInteractive',\n",
              "                                                    [key], {});\n",
              "        if (!dataTable) return;\n",
              "\n",
              "        const docLinkHtml = 'Like what you see? Visit the ' +\n",
              "          '<a target=\"_blank\" href=https://colab.research.google.com/notebooks/data_table.ipynb>data table notebook</a>'\n",
              "          + ' to learn more about interactive tables.';\n",
              "        element.innerHTML = '';\n",
              "        dataTable['output_type'] = 'display_data';\n",
              "        await google.colab.output.renderOutput(dataTable, element);\n",
              "        const docLink = document.createElement('div');\n",
              "        docLink.innerHTML = docLinkHtml;\n",
              "        element.appendChild(docLink);\n",
              "      }\n",
              "    </script>\n",
              "  </div>\n",
              "\n",
              "\n",
              "<div id=\"df-70c1f5a5-861e-4079-90b1-57108b4bd21c\">\n",
              "  <button class=\"colab-df-quickchart\" onclick=\"quickchart('df-70c1f5a5-861e-4079-90b1-57108b4bd21c')\"\n",
              "            title=\"Suggest charts\"\n",
              "            style=\"display:none;\">\n",
              "\n",
              "<svg xmlns=\"http://www.w3.org/2000/svg\" height=\"24px\"viewBox=\"0 0 24 24\"\n",
              "     width=\"24px\">\n",
              "    <g>\n",
              "        <path d=\"M19 3H5c-1.1 0-2 .9-2 2v14c0 1.1.9 2 2 2h14c1.1 0 2-.9 2-2V5c0-1.1-.9-2-2-2zM9 17H7v-7h2v7zm4 0h-2V7h2v10zm4 0h-2v-4h2v4z\"/>\n",
              "    </g>\n",
              "</svg>\n",
              "  </button>\n",
              "\n",
              "<style>\n",
              "  .colab-df-quickchart {\n",
              "      --bg-color: #E8F0FE;\n",
              "      --fill-color: #1967D2;\n",
              "      --hover-bg-color: #E2EBFA;\n",
              "      --hover-fill-color: #174EA6;\n",
              "      --disabled-fill-color: #AAA;\n",
              "      --disabled-bg-color: #DDD;\n",
              "  }\n",
              "\n",
              "  [theme=dark] .colab-df-quickchart {\n",
              "      --bg-color: #3B4455;\n",
              "      --fill-color: #D2E3FC;\n",
              "      --hover-bg-color: #434B5C;\n",
              "      --hover-fill-color: #FFFFFF;\n",
              "      --disabled-bg-color: #3B4455;\n",
              "      --disabled-fill-color: #666;\n",
              "  }\n",
              "\n",
              "  .colab-df-quickchart {\n",
              "    background-color: var(--bg-color);\n",
              "    border: none;\n",
              "    border-radius: 50%;\n",
              "    cursor: pointer;\n",
              "    display: none;\n",
              "    fill: var(--fill-color);\n",
              "    height: 32px;\n",
              "    padding: 0;\n",
              "    width: 32px;\n",
              "  }\n",
              "\n",
              "  .colab-df-quickchart:hover {\n",
              "    background-color: var(--hover-bg-color);\n",
              "    box-shadow: 0 1px 2px rgba(60, 64, 67, 0.3), 0 1px 3px 1px rgba(60, 64, 67, 0.15);\n",
              "    fill: var(--button-hover-fill-color);\n",
              "  }\n",
              "\n",
              "  .colab-df-quickchart-complete:disabled,\n",
              "  .colab-df-quickchart-complete:disabled:hover {\n",
              "    background-color: var(--disabled-bg-color);\n",
              "    fill: var(--disabled-fill-color);\n",
              "    box-shadow: none;\n",
              "  }\n",
              "\n",
              "  .colab-df-spinner {\n",
              "    border: 2px solid var(--fill-color);\n",
              "    border-color: transparent;\n",
              "    border-bottom-color: var(--fill-color);\n",
              "    animation:\n",
              "      spin 1s steps(1) infinite;\n",
              "  }\n",
              "\n",
              "  @keyframes spin {\n",
              "    0% {\n",
              "      border-color: transparent;\n",
              "      border-bottom-color: var(--fill-color);\n",
              "      border-left-color: var(--fill-color);\n",
              "    }\n",
              "    20% {\n",
              "      border-color: transparent;\n",
              "      border-left-color: var(--fill-color);\n",
              "      border-top-color: var(--fill-color);\n",
              "    }\n",
              "    30% {\n",
              "      border-color: transparent;\n",
              "      border-left-color: var(--fill-color);\n",
              "      border-top-color: var(--fill-color);\n",
              "      border-right-color: var(--fill-color);\n",
              "    }\n",
              "    40% {\n",
              "      border-color: transparent;\n",
              "      border-right-color: var(--fill-color);\n",
              "      border-top-color: var(--fill-color);\n",
              "    }\n",
              "    60% {\n",
              "      border-color: transparent;\n",
              "      border-right-color: var(--fill-color);\n",
              "    }\n",
              "    80% {\n",
              "      border-color: transparent;\n",
              "      border-right-color: var(--fill-color);\n",
              "      border-bottom-color: var(--fill-color);\n",
              "    }\n",
              "    90% {\n",
              "      border-color: transparent;\n",
              "      border-bottom-color: var(--fill-color);\n",
              "    }\n",
              "  }\n",
              "</style>\n",
              "\n",
              "  <script>\n",
              "    async function quickchart(key) {\n",
              "      const quickchartButtonEl =\n",
              "        document.querySelector('#' + key + ' button');\n",
              "      quickchartButtonEl.disabled = true;  // To prevent multiple clicks.\n",
              "      quickchartButtonEl.classList.add('colab-df-spinner');\n",
              "      try {\n",
              "        const charts = await google.colab.kernel.invokeFunction(\n",
              "            'suggestCharts', [key], {});\n",
              "      } catch (error) {\n",
              "        console.error('Error during call to suggestCharts:', error);\n",
              "      }\n",
              "      quickchartButtonEl.classList.remove('colab-df-spinner');\n",
              "      quickchartButtonEl.classList.add('colab-df-quickchart-complete');\n",
              "    }\n",
              "    (() => {\n",
              "      let quickchartButtonEl =\n",
              "        document.querySelector('#df-70c1f5a5-861e-4079-90b1-57108b4bd21c button');\n",
              "      quickchartButtonEl.style.display =\n",
              "        google.colab.kernel.accessAllowed ? 'block' : 'none';\n",
              "    })();\n",
              "  </script>\n",
              "</div>\n",
              "\n",
              "    </div>\n",
              "  </div>\n"
            ],
            "application/vnd.google.colaboratory.intrinsic+json": {
              "type": "dataframe",
              "variable_name": "df"
            }
          },
          "metadata": {},
          "execution_count": 22
        }
      ],
      "source": [
        "# Display first few rows after tokenization\n",
        "df.head()"
      ]
    },
    {
      "cell_type": "markdown",
      "id": "1c1d448e-556a-4fb1-ad7e-724e0ad08e89",
      "metadata": {
        "id": "1c1d448e-556a-4fb1-ad7e-724e0ad08e89"
      },
      "source": [
        "### Use Gensim Phrases package to automatically detect common phrases (bigrams)"
      ]
    },
    {
      "cell_type": "code",
      "execution_count": null,
      "id": "c32c5389-b4b6-4960-ade3-c4c7b8b2e177",
      "metadata": {
        "id": "c32c5389-b4b6-4960-ade3-c4c7b8b2e177"
      },
      "outputs": [],
      "source": [
        "# Configure logging to get output messages\n",
        "logging.basicConfig(format='%(asctime)s : %(levelname)s : %(message)s',\\\n",
        "    level=logging.INFO)"
      ]
    },
    {
      "cell_type": "code",
      "execution_count": null,
      "id": "3b05c2de-3072-4cea-92b3-be0843bcdc18",
      "metadata": {
        "id": "3b05c2de-3072-4cea-92b3-be0843bcdc18"
      },
      "outputs": [],
      "source": [
        "# Create the relevant phrases from list of sentences\n",
        "phrases = Phrases(df['cleaned_combined_text'], min_count=30, progress_per=10000)"
      ]
    },
    {
      "cell_type": "code",
      "execution_count": null,
      "id": "6316169d-824e-494c-89a4-eba337e866ac",
      "metadata": {
        "id": "6316169d-824e-494c-89a4-eba337e866ac"
      },
      "outputs": [],
      "source": [
        "# Use Phraser() to cut down memory consumption of Phrases(), by discarding model states not strictly needed for the bigram detection task\n",
        "bigram = Phraser(phrases)"
      ]
    },
    {
      "cell_type": "code",
      "execution_count": null,
      "id": "9f0f7d24-6e65-4df4-8d46-367268286f33",
      "metadata": {
        "id": "9f0f7d24-6e65-4df4-8d46-367268286f33"
      },
      "outputs": [],
      "source": [
        "# Transform the corpus based on the bigrams detected\n",
        "sentences = bigram[df['cleaned_combined_text']]"
      ]
    },
    {
      "cell_type": "markdown",
      "id": "8c7ec554-84b1-46b4-bbf9-3f40f45ad4d4",
      "metadata": {
        "id": "8c7ec554-84b1-46b4-bbf9-3f40f45ad4d4"
      },
      "source": [
        "### Train Gensim Word2Vec model"
      ]
    },
    {
      "cell_type": "code",
      "execution_count": null,
      "id": "920023d6-aff9-404d-b799-358f45b3470a",
      "metadata": {
        "id": "920023d6-aff9-404d-b799-358f45b3470a",
        "colab": {
          "base_uri": "https://localhost:8080/"
        },
        "outputId": "db28a18e-d264-4eff-b7f6-8ff1cbaa6e49"
      },
      "outputs": [
        {
          "output_type": "execute_result",
          "data": {
            "text/plain": [
              "2"
            ]
          },
          "metadata": {},
          "execution_count": 27
        }
      ],
      "source": [
        "# Count the number of cores in a computer and use this info when training Word2Vec model\n",
        "cores = multiprocessing.cpu_count()\n",
        "cores"
      ]
    },
    {
      "cell_type": "code",
      "execution_count": null,
      "id": "d6367b27-bb7d-4177-8342-8228477e0d0e",
      "metadata": {
        "id": "d6367b27-bb7d-4177-8342-8228477e0d0e"
      },
      "outputs": [],
      "source": [
        "# Instantiate Word2Vec model\n",
        "w2v_model = Word2Vec(min_count=30,\n",
        "                     window=2,\n",
        "                     vector_size=300,\n",
        "                     sample=6e-5,\n",
        "                     alpha=0.03,\n",
        "                     min_alpha=0.0007,\n",
        "                     negative=20,\n",
        "                     workers=cores-1)"
      ]
    },
    {
      "cell_type": "code",
      "execution_count": null,
      "id": "b6546c3a-55ed-46fc-b50a-343895cece47",
      "metadata": {
        "id": "b6546c3a-55ed-46fc-b50a-343895cece47",
        "colab": {
          "base_uri": "https://localhost:8080/"
        },
        "outputId": "126ee5ac-4ef7-4019-c40b-560dd9e79f28"
      },
      "outputs": [
        {
          "output_type": "stream",
          "name": "stdout",
          "text": [
            "CPU times: user 628 ms, sys: 5.33 ms, total: 633 ms\n",
            "Wall time: 632 ms\n"
          ]
        }
      ],
      "source": [
        "%%time\n",
        "\n",
        "# Build the vocabulary table (digest the words, filter out the unique words, and do some basic counts on them)\n",
        "w2v_model.build_vocab(sentences, progress_per=10000)"
      ]
    },
    {
      "cell_type": "code",
      "execution_count": null,
      "id": "e0c845ef-b009-4e3f-83c7-77ddfa88cca6",
      "metadata": {
        "id": "e0c845ef-b009-4e3f-83c7-77ddfa88cca6",
        "colab": {
          "base_uri": "https://localhost:8080/"
        },
        "outputId": "48c074ff-3ab4-49df-88ca-bd58abc9f640"
      },
      "outputs": [
        {
          "output_type": "stream",
          "name": "stdout",
          "text": [
            "CPU times: user 1min 24s, sys: 305 ms, total: 1min 24s\n",
            "Wall time: 1min 2s\n"
          ]
        },
        {
          "output_type": "execute_result",
          "data": {
            "text/plain": [
              "(5655217, 15527370)"
            ]
          },
          "metadata": {},
          "execution_count": 30
        }
      ],
      "source": [
        "%%time\n",
        "\n",
        "# Train the model\n",
        "w2v_model.train(sentences, total_examples=w2v_model.corpus_count, epochs=30, report_delay=1)"
      ]
    },
    {
      "cell_type": "markdown",
      "id": "06c355e8-a236-489f-b43b-f9c76614384f",
      "metadata": {
        "id": "06c355e8-a236-489f-b43b-f9c76614384f"
      },
      "source": [
        "### Explore the model"
      ]
    },
    {
      "cell_type": "markdown",
      "id": "e23a0304-fa5b-4d6a-b95b-27b18fb2fe85",
      "metadata": {
        "id": "e23a0304-fa5b-4d6a-b95b-27b18fb2fe85"
      },
      "source": [
        "#### Most similar to"
      ]
    },
    {
      "cell_type": "code",
      "execution_count": null,
      "id": "417f1d1d-8554-4337-8b9b-b5d556c22107",
      "metadata": {
        "id": "417f1d1d-8554-4337-8b9b-b5d556c22107",
        "colab": {
          "base_uri": "https://localhost:8080/"
        },
        "outputId": "52868c43-4c63-452e-ea40-b640a4d04d98"
      },
      "outputs": [
        {
          "output_type": "execute_result",
          "data": {
            "text/plain": [
              "[('king_claudius', 0.89310622215271),\n",
              " ('laertes', 0.8623659014701843),\n",
              " ('lord_polonius', 0.8397166132926941),\n",
              " ('othello', 0.8336198329925537),\n",
              " ('horatio', 0.8243570327758789),\n",
              " ('queen_gertrude', 0.8210024833679199),\n",
              " ('paulina', 0.8085045218467712),\n",
              " ('leontes', 0.7969347834587097),\n",
              " ('king_lear', 0.772221028804779),\n",
              " ('sebastian', 0.7704293727874756)]"
            ]
          },
          "metadata": {},
          "execution_count": 31
        }
      ],
      "source": [
        "# Find the words most similar to some of the most iconic characters from Shakespeare's plays: 'hamlet'\n",
        "w2v_model.wv.most_similar(\"hamlet\")"
      ]
    },
    {
      "cell_type": "code",
      "execution_count": null,
      "id": "880d01af-a668-4791-86be-db9177de7bd2",
      "metadata": {
        "id": "880d01af-a668-4791-86be-db9177de7bd2",
        "colab": {
          "base_uri": "https://localhost:8080/"
        },
        "outputId": "0fdafb66-0bc1-4de7-d557-ae651167a8c2"
      },
      "outputs": [
        {
          "output_type": "execute_result",
          "data": {
            "text/plain": [
              "[('lady_macbeth', 0.8726910948753357),\n",
              " ('banquo', 0.8668791651725769),\n",
              " ('macduff', 0.8541286587715149),\n",
              " ('malcolm', 0.8116740584373474),\n",
              " ('duncan', 0.801443874835968),\n",
              " ('ross', 0.7907202839851379),\n",
              " ('imogen', 0.7386460304260254),\n",
              " ('cymbeline', 0.7370874285697937),\n",
              " ('posthumus_leonatus', 0.7119254469871521),\n",
              " ('edgar', 0.7086848020553589)]"
            ]
          },
          "metadata": {},
          "execution_count": 32
        }
      ],
      "source": [
        "# Find the words most similar to some of the most iconic characters from Shakespeare's plays: 'macbeth'\n",
        "w2v_model.wv.most_similar(\"macbeth\")"
      ]
    },
    {
      "cell_type": "markdown",
      "id": "2c1ff3c1-ae67-46e9-ac3c-a27fe5358b3d",
      "metadata": {
        "id": "2c1ff3c1-ae67-46e9-ac3c-a27fe5358b3d"
      },
      "source": [
        "#### Similarity"
      ]
    },
    {
      "cell_type": "code",
      "execution_count": null,
      "id": "cb02ebc5-f8f4-43b7-b08c-3d2d75616d64",
      "metadata": {
        "id": "cb02ebc5-f8f4-43b7-b08c-3d2d75616d64",
        "colab": {
          "base_uri": "https://localhost:8080/"
        },
        "outputId": "6f93139b-3fb8-437c-beeb-11580b6815bd"
      },
      "outputs": [
        {
          "output_type": "execute_result",
          "data": {
            "text/plain": [
              "0.8787465"
            ]
          },
          "metadata": {},
          "execution_count": 33
        }
      ],
      "source": [
        "# See how similar two words are to each other: 'cleopatra' and 'mark_antony'\n",
        "w2v_model.wv.similarity(\"cleopatra\", 'mark_antony')"
      ]
    },
    {
      "cell_type": "code",
      "execution_count": null,
      "id": "4dc77dfd-5246-4d52-ae89-baeae10a60b4",
      "metadata": {
        "id": "4dc77dfd-5246-4d52-ae89-baeae10a60b4",
        "colab": {
          "base_uri": "https://localhost:8080/"
        },
        "outputId": "3a452d1a-61eb-4b79-8a79-3d0923aae26c"
      },
      "outputs": [
        {
          "output_type": "execute_result",
          "data": {
            "text/plain": [
              "0.59394115"
            ]
          },
          "metadata": {},
          "execution_count": 34
        }
      ],
      "source": [
        "# See how similar two words are to each other: 'macbeth' and 'hamlet'\n",
        "w2v_model.wv.similarity(\"macbeth\", 'hamlet')"
      ]
    },
    {
      "cell_type": "markdown",
      "id": "7dbd3f83-8fa4-4425-a455-9993344ac499",
      "metadata": {
        "id": "7dbd3f83-8fa4-4425-a455-9993344ac499"
      },
      "source": [
        "#### Does not belong (odd-one-out)"
      ]
    },
    {
      "cell_type": "code",
      "execution_count": null,
      "id": "61dc3b6d-b6f6-4056-ba8e-6072a8b1c1a7",
      "metadata": {
        "id": "61dc3b6d-b6f6-4056-ba8e-6072a8b1c1a7",
        "colab": {
          "base_uri": "https://localhost:8080/",
          "height": 35
        },
        "outputId": "062347b0-a3f4-4381-d4ae-db2a60955746"
      },
      "outputs": [
        {
          "output_type": "execute_result",
          "data": {
            "text/plain": [
              "'edmund'"
            ],
            "application/vnd.google.colaboratory.intrinsic+json": {
              "type": "string"
            }
          },
          "metadata": {},
          "execution_count": 35
        }
      ],
      "source": [
        "# Display the word that does not belong to the list: ['goneril', 'edmund', 'regan']\n",
        "w2v_model.wv.doesnt_match(['goneril', 'edmund', 'regan'])"
      ]
    },
    {
      "cell_type": "code",
      "execution_count": null,
      "id": "0f3aae4d-0002-4898-beae-f72e77cffac3",
      "metadata": {
        "id": "0f3aae4d-0002-4898-beae-f72e77cffac3",
        "colab": {
          "base_uri": "https://localhost:8080/",
          "height": 53
        },
        "outputId": "5bf731e6-912e-42ba-ffcf-078984871c03"
      },
      "outputs": [
        {
          "output_type": "stream",
          "name": "stderr",
          "text": [
            "WARNING:gensim.models.keyedvectors:vectors for words {'henry_iv'} are not present in the model, ignoring these words\n"
          ]
        },
        {
          "output_type": "execute_result",
          "data": {
            "text/plain": [
              "'falstaff'"
            ],
            "application/vnd.google.colaboratory.intrinsic+json": {
              "type": "string"
            }
          },
          "metadata": {},
          "execution_count": 36
        }
      ],
      "source": [
        "# Display the word that does not belong to the list: ['falstaff', 'hal', 'henry_iv']\n",
        "w2v_model.wv.doesnt_match([\"falstaff\", \"hal\", \"henry_iv\"])"
      ]
    },
    {
      "cell_type": "markdown",
      "id": "75a56272-e739-4a1c-8814-043f7ffeffa0",
      "metadata": {
        "id": "75a56272-e739-4a1c-8814-043f7ffeffa0"
      },
      "source": [
        "#### Analogy differences"
      ]
    },
    {
      "cell_type": "code",
      "execution_count": null,
      "id": "51b9d969-2a88-4884-b988-af0d9a6a6cdc",
      "metadata": {
        "id": "51b9d969-2a88-4884-b988-af0d9a6a6cdc",
        "colab": {
          "base_uri": "https://localhost:8080/"
        },
        "outputId": "5acfcf0e-e239-4000-a950-4c7e53a9d583"
      },
      "outputs": [
        {
          "output_type": "execute_result",
          "data": {
            "text/plain": [
              "[('macduff', 0.8136084675788879),\n",
              " ('banquo', 0.801937997341156),\n",
              " ('lady_macbeth', 0.7837125062942505),\n",
              " ('queen_margaret', 0.7641648054122925),\n",
              " ('ross', 0.7632091641426086)]"
            ]
          },
          "metadata": {},
          "execution_count": 37
        }
      ],
      "source": [
        "# Which word is to 'macbeth' as 'othello' is to 'iago'?\n",
        "w2v_model.wv.most_similar(positive=[\"macbeth\", \"othello\"], negative=[\"iago\"], topn=5)"
      ]
    },
    {
      "cell_type": "code",
      "execution_count": null,
      "id": "7303c27d-542d-43d0-a0d9-bebc57083261",
      "metadata": {
        "id": "7303c27d-542d-43d0-a0d9-bebc57083261",
        "colab": {
          "base_uri": "https://localhost:8080/"
        },
        "outputId": "1ba315d9-cda7-487b-e20b-fb7dec203a9e"
      },
      "outputs": [
        {
          "output_type": "execute_result",
          "data": {
            "text/plain": [
              "[('first_gaoler', 0.7635818123817444),\n",
              " ('kent', 0.7522541880607605),\n",
              " ('olivia', 0.7432266473770142),\n",
              " ('launce', 0.740451455116272),\n",
              " ('cloten', 0.7374950647354126)]"
            ]
          },
          "metadata": {},
          "execution_count": 38
        }
      ],
      "source": [
        "# Which word is to 'king_lear' as 'polonius' is to 'laertes'?\n",
        "w2v_model.wv.most_similar(positive=[\"king_lear\", \"lord_polonius\"], negative=[\"laertes\"], topn=5)"
      ]
    }
  ],
  "metadata": {
    "kernelspec": {
      "display_name": "Python 3 (ipykernel)",
      "language": "python",
      "name": "python3"
    },
    "language_info": {
      "codemirror_mode": {
        "name": "ipython",
        "version": 3
      },
      "file_extension": ".py",
      "mimetype": "text/x-python",
      "name": "python",
      "nbconvert_exporter": "python",
      "pygments_lexer": "ipython3",
      "version": "3.8.8"
    },
    "colab": {
      "provenance": []
    }
  },
  "nbformat": 4,
  "nbformat_minor": 5
}